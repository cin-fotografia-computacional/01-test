{
  "nbformat": 4,
  "nbformat_minor": 0,
  "metadata": {
    "colab": {
      "provenance": [],
      "include_colab_link": true
    },
    "kernelspec": {
      "name": "python3",
      "display_name": "Python 3"
    },
    "language_info": {
      "name": "python"
    }
  },
  "cells": [
    {
      "cell_type": "markdown",
      "metadata": {
        "id": "view-in-github",
        "colab_type": "text"
      },
      "source": [
        "<a href=\"https://colab.research.google.com/github/cin-fotografia-computacional/01-test/blob/main/NotebookParaAvalia%C3%A7%C3%A3oV1.ipynb\" target=\"_parent\"><img src=\"https://colab.research.google.com/assets/colab-badge.svg\" alt=\"Open In Colab\"/></a>"
      ]
    },
    {
      "cell_type": "markdown",
      "source": [
        "##Notebook para avaliação"
      ],
      "metadata": {
        "id": "Yqe1fhhQffhg"
      }
    },
    {
      "cell_type": "code",
      "execution_count": 1,
      "metadata": {
        "colab": {
          "base_uri": "https://localhost:8080/"
        },
        "id": "yqMOuhiIfezO",
        "outputId": "8a66951d-f4ff-4e77-e734-b80b1325c394"
      },
      "outputs": [
        {
          "output_type": "stream",
          "name": "stdout",
          "text": [
            "Cloning into 'imgcourse'...\n",
            "remote: Enumerating objects: 40, done.\u001b[K\n",
            "remote: Counting objects: 100% (40/40), done.\u001b[K\n",
            "remote: Compressing objects: 100% (36/36), done.\u001b[K\n",
            "remote: Total 40 (delta 9), reused 20 (delta 2), pack-reused 0\u001b[K\n",
            "Receiving objects: 100% (40/40), 6.96 MiB | 19.97 MiB/s, done.\n",
            "Resolving deltas: 100% (9/9), done.\n"
          ]
        }
      ],
      "source": [
        "import os\n",
        "if os.path.isdir(\"imgcourse\"):\n",
        "  print(\"Diretório já existe!\")\n",
        "else:\n",
        "  !git clone https://github.com/mhsacampos/imgcourse"
      ]
    },
    {
      "cell_type": "markdown",
      "source": [
        "##Colocar o código nas próximas células para desenvolvimento dos exercícios de avaliação"
      ],
      "metadata": {
        "id": "FDXv2DFAf_tp"
      }
    },
    {
      "cell_type": "code",
      "source": [
        "import cv2\n",
        "import numpy as np\n",
        "\n",
        "\n",
        "# Passo 1: Ler a imagem lena.png com OpenCV\n",
        "imagem = cv2.imread('/content/imgcourse/lena.png')\n",
        "\n",
        "# Passo 2: Converter para tons de cinza\n",
        "tons_de_cinza = cv2.cvtColor(imagem, cv2.COLOR_BGR2GRAY)\n",
        "\n",
        "# Passo 3: Obter o espectro de Fourier no domínio da frequência\n",
        "espectro = np.fft.fft2(tons_de_cinza)\n",
        "\n",
        "# Passo 4: Obter o logaritmo neperiano do espectro\n",
        "espectro_log = np.log1p(np.abs(espectro))\n",
        "\n",
        "# Passo 5: Calcular o valor médio\n",
        "valor_medio = np.mean(espectro_log)\n",
        "\n",
        "# Exibindo o valor médio calculado\n",
        "print(\"O valor médio do logaritmo neperiano do espectro é:\", valor_medio)\n"
      ],
      "metadata": {
        "id": "0w38L4DgkV2T",
        "outputId": "c445cf35-1527-470d-ba13-5376a9024e48",
        "colab": {
          "base_uri": "https://localhost:8080/"
        }
      },
      "execution_count": 9,
      "outputs": [
        {
          "output_type": "stream",
          "name": "stdout",
          "text": [
            "O valor médio do logaritmo neperiano do espectro é: 8.08715488572519\n"
          ]
        }
      ]
    }
  ]
}