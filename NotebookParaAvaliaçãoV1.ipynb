{
  "nbformat": 4,
  "nbformat_minor": 0,
  "metadata": {
    "colab": {
      "provenance": [],
      "include_colab_link": true
    },
    "kernelspec": {
      "name": "python3",
      "display_name": "Python 3"
    },
    "language_info": {
      "name": "python"
    }
  },
  "cells": [
    {
      "cell_type": "markdown",
      "metadata": {
        "id": "view-in-github",
        "colab_type": "text"
      },
      "source": [
        "<a href=\"https://colab.research.google.com/github/cin-fotografia-computacional/01-test/blob/main/NotebookParaAvalia%C3%A7%C3%A3oV1.ipynb\" target=\"_parent\"><img src=\"https://colab.research.google.com/assets/colab-badge.svg\" alt=\"Open In Colab\"/></a>"
      ]
    },
    {
      "cell_type": "markdown",
      "source": [
        "##Notebook para avaliação"
      ],
      "metadata": {
        "id": "Yqe1fhhQffhg"
      }
    },
    {
      "cell_type": "code",
      "execution_count": 11,
      "metadata": {
        "colab": {
          "base_uri": "https://localhost:8080/"
        },
        "id": "yqMOuhiIfezO",
        "outputId": "24aa6053-15ff-42d1-ba00-567e135087d9"
      },
      "outputs": [
        {
          "output_type": "stream",
          "name": "stdout",
          "text": [
            "Diretório já existe!\n"
          ]
        }
      ],
      "source": [
        "import os\n",
        "if os.path.isdir(\"imgcourse\"):\n",
        "  print(\"Diretório já existe!\")\n",
        "else:\n",
        "  !git clone https://github.com/mhsacampos/imgcourse"
      ]
    },
    {
      "cell_type": "code",
      "source": [
        "import cv2\n",
        "import numpy as np\n",
        "\n",
        "\n",
        "# Passo 1: Ler a imagem lena.png com OpenCV\n",
        "imagem = cv2.imread('/content/imgcourse/lena.png')\n",
        "\n",
        "# Passo 2: Converter para tons de cinza\n",
        "tons_de_cinza = cv2.cvtColor(imagem, cv2.COLOR_BGR2GRAY)\n",
        "\n",
        "# Passo 3: Equalizar a imagem\n",
        "imagem_equalizada = cv2.equalizeHist(tons_de_cinza)\n",
        "# Passo 4: Calcular média e desvio padrão da imagem equalizada\n",
        "media_equalizada = np.mean(imagem_equalizada)\n",
        "desvio_padrao_equalizado = np.std(imagem_equalizada)\n",
        "\n",
        "# Exibindo os valores calculados\n",
        "print(\"A média da imagem equalizada é:\", media_equalizada)\n",
        "print(\"O desvio padrão da imagem equalizada é:\", desvio_padrao_equalizado)"
      ],
      "metadata": {
        "id": "zg5Hvx18nHlz",
        "outputId": "316d4324-1ac6-4dcb-b899-a7b3e4103372",
        "colab": {
          "base_uri": "https://localhost:8080/"
        }
      },
      "execution_count": 12,
      "outputs": [
        {
          "output_type": "stream",
          "name": "stdout",
          "text": [
            "A média da imagem equalizada é: 128.50994491577148\n",
            "O desvio padrão da imagem equalizada é: 73.2617727999835\n"
          ]
        }
      ]
    },
    {
      "cell_type": "markdown",
      "source": [
        "##Colocar o código nas próximas células para desenvolvimento dos exercícios de avaliação"
      ],
      "metadata": {
        "id": "FDXv2DFAf_tp"
      }
    }
  ]
}